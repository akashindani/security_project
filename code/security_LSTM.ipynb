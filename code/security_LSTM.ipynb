{
 "cells": [
  {
   "cell_type": "code",
   "execution_count": 66,
   "metadata": {},
   "outputs": [],
   "source": [
    "import tensorflow as tf\n",
    "import keras\n",
    "from tensorflow.keras import layers, models\n",
    "import numpy as np\n",
    "from keras import backend as K\n",
    "\n"
   ]
  },
  {
   "cell_type": "code",
   "execution_count": 67,
   "metadata": {},
   "outputs": [],
   "source": [
    "X_array = np.load('ip_sequences_new_10.npy')\n",
    "Y_array = np.load('y_array_new_10.npy')"
   ]
  },
  {
   "cell_type": "code",
   "execution_count": 68,
   "metadata": {},
   "outputs": [
    {
     "data": {
      "text/plain": [
       "(23929, 10, 7)"
      ]
     },
     "execution_count": 68,
     "metadata": {},
     "output_type": "execute_result"
    }
   ],
   "source": [
    "X_array.shape"
   ]
  },
  {
   "cell_type": "code",
   "execution_count": 69,
   "metadata": {},
   "outputs": [
    {
     "name": "stdout",
     "output_type": "stream",
     "text": [
      "(23929, 1)\n",
      "1275\n"
     ]
    }
   ],
   "source": [
    "y_ne= np.load('y_array_new_10.npy')\n",
    "\n",
    "print(y_ne.shape)\n",
    "ones=0\n",
    "for item in y_ne:\n",
    "    if item[0] == 1:\n",
    "        ones += 1\n",
    "print(ones)"
   ]
  },
  {
   "cell_type": "code",
   "execution_count": 70,
   "metadata": {},
   "outputs": [
    {
     "data": {
      "text/plain": [
       "False"
      ]
     },
     "execution_count": 70,
     "metadata": {},
     "output_type": "execute_result"
    }
   ],
   "source": [
    "np.isnan(np.sum(X_array))"
   ]
  },
  {
   "cell_type": "code",
   "execution_count": 71,
   "metadata": {},
   "outputs": [
    {
     "data": {
      "text/plain": [
       "(23929, 10, 7)"
      ]
     },
     "execution_count": 71,
     "metadata": {},
     "output_type": "execute_result"
    }
   ],
   "source": [
    "X_array.shape"
   ]
  },
  {
   "cell_type": "code",
   "execution_count": 72,
   "metadata": {},
   "outputs": [],
   "source": [
    "X_array=np.delete(X_array,[6], axis=2)\n",
    "X_array=np.delete(X_array,[3], axis=2)"
   ]
  },
  {
   "cell_type": "code",
   "execution_count": 73,
   "metadata": {},
   "outputs": [
    {
     "data": {
      "text/plain": [
       "array([[[1.738000e-01, 0.000000e+00, 0.000000e+00, 0.000000e+00,\n",
       "         0.000000e+00],\n",
       "        [1.740000e-01, 0.000000e+00, 0.000000e+00, 2.149000e-01,\n",
       "         0.000000e+00],\n",
       "        [1.742000e-01, 0.000000e+00, 0.000000e+00, 2.139000e-01,\n",
       "         0.000000e+00],\n",
       "        ...,\n",
       "        [1.751000e-01, 0.000000e+00, 0.000000e+00, 5.816000e-01,\n",
       "         0.000000e+00],\n",
       "        [1.753000e-01, 0.000000e+00, 0.000000e+00, 2.129000e-01,\n",
       "         0.000000e+00],\n",
       "        [1.755000e-01, 0.000000e+00, 0.000000e+00, 2.154000e-01,\n",
       "         0.000000e+00]],\n",
       "\n",
       "       [[1.757000e-01, 0.000000e+00, 0.000000e+00, 2.133000e-01,\n",
       "         0.000000e+00],\n",
       "        [1.759000e-01, 0.000000e+00, 0.000000e+00, 5.816000e-01,\n",
       "         0.000000e+00],\n",
       "        [1.761000e-01, 0.000000e+00, 0.000000e+00, 2.130000e-01,\n",
       "         0.000000e+00],\n",
       "        ...,\n",
       "        [1.770000e-01, 0.000000e+00, 0.000000e+00, 2.158000e-01,\n",
       "         0.000000e+00],\n",
       "        [1.772000e-01, 0.000000e+00, 0.000000e+00, 2.136000e-01,\n",
       "         0.000000e+00],\n",
       "        [1.774000e-01, 0.000000e+00, 0.000000e+00, 5.789000e-01,\n",
       "         0.000000e+00]],\n",
       "\n",
       "       [[1.776000e-01, 0.000000e+00, 0.000000e+00, 2.121000e-01,\n",
       "         0.000000e+00],\n",
       "        [1.778000e-01, 0.000000e+00, 0.000000e+00, 2.137000e-01,\n",
       "         0.000000e+00],\n",
       "        [1.780000e-01, 0.000000e+00, 0.000000e+00, 2.129000e-01,\n",
       "         0.000000e+00],\n",
       "        ...,\n",
       "        [1.791000e-01, 0.000000e+00, 0.000000e+00, 5.816000e-01,\n",
       "         0.000000e+00],\n",
       "        [1.793000e-01, 0.000000e+00, 0.000000e+00, 2.119000e-01,\n",
       "         0.000000e+00],\n",
       "        [1.796000e-01, 0.000000e+00, 0.000000e+00, 2.148000e-01,\n",
       "         0.000000e+00]],\n",
       "\n",
       "       ...,\n",
       "\n",
       "       [[7.200000e-02, 0.000000e+00, 0.000000e+00, 3.800000e-03,\n",
       "         0.000000e+00],\n",
       "        [7.220000e-02, 0.000000e+00, 0.000000e+00, 3.300000e-03,\n",
       "         0.000000e+00],\n",
       "        [7.240000e-02, 0.000000e+00, 0.000000e+00, 3.200000e-03,\n",
       "         0.000000e+00],\n",
       "        ...,\n",
       "        [6.900000e-03, 0.000000e+00, 0.000000e+00, 3.895000e-01,\n",
       "         0.000000e+00],\n",
       "        [7.200000e-03, 0.000000e+00, 0.000000e+00, 2.655000e+00,\n",
       "         0.000000e+00],\n",
       "        [7.800000e-03, 0.000000e+00, 0.000000e+00, 3.730215e+02,\n",
       "         0.000000e+00]],\n",
       "\n",
       "       [[1.920000e-02, 0.000000e+00, 0.000000e+00, 1.700000e-03,\n",
       "         0.000000e+00],\n",
       "        [1.960000e-02, 0.000000e+00, 0.000000e+00, 3.532000e-01,\n",
       "         0.000000e+00],\n",
       "        [2.000000e-02, 0.000000e+00, 0.000000e+00, 3.751000e-01,\n",
       "         0.000000e+00],\n",
       "        ...,\n",
       "        [8.200000e-03, 0.000000e+00, 0.000000e+00, 2.739000e-01,\n",
       "         0.000000e+00],\n",
       "        [2.200000e-02, 0.000000e+00, 0.000000e+00, 4.200000e-03,\n",
       "         0.000000e+00],\n",
       "        [2.240000e-02, 0.000000e+00, 0.000000e+00, 3.243000e-01,\n",
       "         0.000000e+00]],\n",
       "\n",
       "       [[2.280000e-02, 0.000000e+00, 0.000000e+00, 3.762000e-01,\n",
       "         0.000000e+00],\n",
       "        [2.320000e-02, 0.000000e+00, 0.000000e+00, 1.142000e-01,\n",
       "         0.000000e+00],\n",
       "        [2.360000e-02, 0.000000e+00, 0.000000e+00, 1.157000e-01,\n",
       "         0.000000e+00],\n",
       "        ...,\n",
       "        [1.600000e-03, 0.000000e+00, 0.000000e+00, 1.914000e-01,\n",
       "         0.000000e+00],\n",
       "        [1.600000e-03, 0.000000e+00, 0.000000e+00, 2.249000e-01,\n",
       "         0.000000e+00],\n",
       "        [2.000000e-03, 0.000000e+00, 0.000000e+00, 2.743000e-01,\n",
       "         0.000000e+00]]])"
      ]
     },
     "execution_count": 73,
     "metadata": {},
     "output_type": "execute_result"
    }
   ],
   "source": [
    "X_array"
   ]
  },
  {
   "cell_type": "code",
   "execution_count": 74,
   "metadata": {},
   "outputs": [],
   "source": [
    "def min_max_normalization(new_X_array):\n",
    "    new_x= np.zeros(new_X_array.shape)\n",
    "\n",
    "    for i in range(new_X_array.shape[2]):\n",
    "        \n",
    "        min_val = new_X_array[0][0][i]\n",
    "        max_val= new_X_array[0][0][i]\n",
    "        for array in new_X_array:\n",
    "            for item in array:\n",
    "                if item[i] < min_val:\n",
    "                    min_val = item[i]\n",
    "                if item[i] > max_val:\n",
    "                    max_val = item[i]\n",
    "\n",
    "        for j, array in enumerate(new_X_array):\n",
    "            for k, item in enumerate(array):\n",
    "                new_x[j][k][i] = (item[i] - min_val) / (max_val - min_val)\n",
    "                #x_test[j][k][i] = item[i]\n",
    "    \n",
    "    return new_x\n",
    "    "
   ]
  },
  {
   "cell_type": "code",
   "execution_count": 75,
   "metadata": {},
   "outputs": [
    {
     "data": {
      "text/plain": [
       "(23929, 10, 5)"
      ]
     },
     "execution_count": 75,
     "metadata": {},
     "output_type": "execute_result"
    }
   ],
   "source": [
    "new_x = min_max_normalization(X_array)\n",
    "new_x.shape"
   ]
  },
  {
   "cell_type": "code",
   "execution_count": 76,
   "metadata": {},
   "outputs": [],
   "source": [
    "from sklearn.model_selection import train_test_split\n",
    "\n",
    "# Split the data\n",
    "x_train, x_valid, y_train, y_valid = train_test_split(new_x, Y_array, test_size=0.33, shuffle= True, stratify=Y_array)"
   ]
  },
  {
   "cell_type": "code",
   "execution_count": 77,
   "metadata": {},
   "outputs": [
    {
     "name": "stdout",
     "output_type": "stream",
     "text": [
      "1275\n"
     ]
    }
   ],
   "source": [
    "print(np.count_nonzero(Y_array == 1))"
   ]
  },
  {
   "cell_type": "code",
   "execution_count": null,
   "metadata": {},
   "outputs": [],
   "source": []
  },
  {
   "cell_type": "code",
   "execution_count": 78,
   "metadata": {},
   "outputs": [
    {
     "name": "stdout",
     "output_type": "stream",
     "text": [
      "Model: \"sequential_5\"\n",
      "_________________________________________________________________\n",
      "Layer (type)                 Output Shape              Param #   \n",
      "=================================================================\n",
      "lstm_10 (LSTM)               (None, 10, 8)             448       \n",
      "_________________________________________________________________\n",
      "lstm_11 (LSTM)               (None, 8)                 544       \n",
      "_________________________________________________________________\n",
      "dense_5 (Dense)              (None, 1)                 9         \n",
      "=================================================================\n",
      "Total params: 1,001\n",
      "Trainable params: 1,001\n",
      "Non-trainable params: 0\n",
      "_________________________________________________________________\n"
     ]
    }
   ],
   "source": [
    "model = keras.Sequential()\n",
    "model.add(layers.LSTM(8,return_sequences=True, input_shape=(new_x.shape[1], new_x.shape[2]), activation='relu'))\n",
    "model.add(layers.LSTM(8, activation='relu'), )\n",
    "model.add(layers.Dense(1, activation='sigmoid'))\n",
    "model.summary()"
   ]
  },
  {
   "cell_type": "code",
   "execution_count": 79,
   "metadata": {},
   "outputs": [],
   "source": [
    "#https://datascience.stackexchange.com/questions/45165/how-to-get-accuracy-f1-precision-and-recall-for-a-keras-model\n",
    "\n",
    "def recall_m(y_true, y_pred):\n",
    "    true_positives = K.sum(K.round(K.clip(y_true * y_pred, 0, 1)))\n",
    "    possible_positives = K.sum(K.round(K.clip(y_true, 0, 1)))\n",
    "    recall = true_positives / (possible_positives + K.epsilon())\n",
    "    return recall\n",
    "\n",
    "def precision_m(y_true, y_pred):\n",
    "    true_positives = K.sum(K.round(K.clip(y_true * y_pred, 0, 1)))\n",
    "    predicted_positives = K.sum(K.round(K.clip(y_pred, 0, 1)))\n",
    "    precision = true_positives / (predicted_positives + K.epsilon())\n",
    "    return precision\n",
    "\n",
    "def f1_m(y_true, y_pred):\n",
    "    precision = precision_m(y_true, y_pred)\n",
    "    recall = recall_m(y_true, y_pred)\n",
    "    return 2*((precision*recall)/(precision+recall+K.epsilon()))"
   ]
  },
  {
   "cell_type": "code",
   "execution_count": 80,
   "metadata": {},
   "outputs": [],
   "source": [
    "opt = tf.keras.optimizers.Adam(learning_rate=0.01)\n",
    "\n",
    "model.compile(optimizer=opt,\n",
    "              loss=tf.keras.losses.BinaryCrossentropy(from_logits=True),\n",
    "              metrics=['accuracy', 'Precision', 'Recall', f1_m])"
   ]
  },
  {
   "cell_type": "code",
   "execution_count": 81,
   "metadata": {},
   "outputs": [
    {
     "name": "stdout",
     "output_type": "stream",
     "text": [
      "Epoch 1/50\n",
      "32/32 [==============================] - 2s 21ms/step - loss: 0.5028 - accuracy: 0.9715 - precision: 0.9287 - recall: 0.5133 - f1_m: 0.6469 - val_loss: 0.0885 - val_accuracy: 0.9839 - val_precision: 0.9249 - val_recall: 0.7601 - val_f1_m: 0.8267\n",
      "Epoch 2/50\n",
      "32/32 [==============================] - 0s 9ms/step - loss: 0.0756 - accuracy: 0.9846 - precision: 0.9378 - recall: 0.7458 - f1_m: 0.8302 - val_loss: 0.0654 - val_accuracy: 0.9842 - val_precision: 0.9253 - val_recall: 0.7648 - val_f1_m: 0.8301\n",
      "Epoch 3/50\n",
      "32/32 [==============================] - 0s 9ms/step - loss: 0.0622 - accuracy: 0.9848 - precision: 0.9421 - recall: 0.7509 - f1_m: 0.8315 - val_loss: 0.0592 - val_accuracy: 0.9851 - val_precision: 0.9268 - val_recall: 0.7815 - val_f1_m: 0.8409\n",
      "Epoch 4/50\n",
      "32/32 [==============================] - 0s 9ms/step - loss: 0.0573 - accuracy: 0.9852 - precision: 0.9358 - recall: 0.7842 - f1_m: 0.8512 - val_loss: 0.0588 - val_accuracy: 0.9851 - val_precision: 0.9268 - val_recall: 0.7815 - val_f1_m: 0.8409\n",
      "Epoch 5/50\n",
      "32/32 [==============================] - 0s 9ms/step - loss: 0.0493 - accuracy: 0.9862 - precision: 0.9266 - recall: 0.7996 - f1_m: 0.8554 - val_loss: 0.0458 - val_accuracy: 0.9848 - val_precision: 0.9101 - val_recall: 0.7933 - val_f1_m: 0.8412\n",
      "Epoch 6/50\n",
      "32/32 [==============================] - 0s 9ms/step - loss: 0.0488 - accuracy: 0.9828 - precision: 0.8872 - recall: 0.7750 - f1_m: 0.8224 - val_loss: 0.0437 - val_accuracy: 0.9859 - val_precision: 0.9212 - val_recall: 0.8052 - val_f1_m: 0.8512\n",
      "Epoch 7/50\n",
      "32/32 [==============================] - 0s 9ms/step - loss: 0.0440 - accuracy: 0.9852 - precision: 0.9051 - recall: 0.8079 - f1_m: 0.8497 - val_loss: 0.0400 - val_accuracy: 0.9892 - val_precision: 0.9078 - val_recall: 0.8884 - val_f1_m: 0.8930\n",
      "Epoch 8/50\n",
      "32/32 [==============================] - 0s 9ms/step - loss: 0.0372 - accuracy: 0.9902 - precision: 0.9053 - recall: 0.8998 - f1_m: 0.9010 - val_loss: 0.0373 - val_accuracy: 0.9904 - val_precision: 0.9238 - val_recall: 0.8931 - val_f1_m: 0.9008\n",
      "Epoch 9/50\n",
      "32/32 [==============================] - 0s 9ms/step - loss: 0.0375 - accuracy: 0.9910 - precision: 0.9232 - recall: 0.8962 - f1_m: 0.9092 - val_loss: 0.0488 - val_accuracy: 0.9901 - val_precision: 0.9235 - val_recall: 0.8884 - val_f1_m: 0.8980\n",
      "Epoch 10/50\n",
      "32/32 [==============================] - 0s 9ms/step - loss: 0.0358 - accuracy: 0.9916 - precision: 0.9367 - recall: 0.9062 - f1_m: 0.9214 - val_loss: 0.0386 - val_accuracy: 0.9906 - val_precision: 0.9242 - val_recall: 0.8979 - val_f1_m: 0.9043\n",
      "Epoch 11/50\n",
      "32/32 [==============================] - 0s 9ms/step - loss: 0.0363 - accuracy: 0.9911 - precision: 0.9356 - recall: 0.8892 - f1_m: 0.9095 - val_loss: 0.0368 - val_accuracy: 0.9901 - val_precision: 0.9153 - val_recall: 0.8979 - val_f1_m: 0.9009\n",
      "Epoch 12/50\n",
      "32/32 [==============================] - 0s 9ms/step - loss: 0.0333 - accuracy: 0.9921 - precision: 0.9338 - recall: 0.9171 - f1_m: 0.9245 - val_loss: 0.0408 - val_accuracy: 0.9887 - val_precision: 0.8860 - val_recall: 0.9050 - val_f1_m: 0.8893\n",
      "Epoch 13/50\n",
      "32/32 [==============================] - 0s 9ms/step - loss: 0.0367 - accuracy: 0.9911 - precision: 0.9224 - recall: 0.9076 - f1_m: 0.9117 - val_loss: 0.0358 - val_accuracy: 0.9904 - val_precision: 0.9238 - val_recall: 0.8931 - val_f1_m: 0.9018\n",
      "Epoch 14/50\n",
      "32/32 [==============================] - 0s 9ms/step - loss: 0.0343 - accuracy: 0.9920 - precision: 0.9283 - recall: 0.9214 - f1_m: 0.9225 - val_loss: 0.0438 - val_accuracy: 0.9905 - val_precision: 0.9261 - val_recall: 0.8931 - val_f1_m: 0.9029\n",
      "Epoch 15/50\n",
      "32/32 [==============================] - 0s 9ms/step - loss: 0.0338 - accuracy: 0.9920 - precision: 0.9354 - recall: 0.9181 - f1_m: 0.9234 - val_loss: 0.0355 - val_accuracy: 0.9904 - val_precision: 0.9117 - val_recall: 0.9074 - val_f1_m: 0.9045\n",
      "Epoch 16/50\n",
      "32/32 [==============================] - 0s 9ms/step - loss: 0.0301 - accuracy: 0.9926 - precision: 0.9230 - recall: 0.9337 - f1_m: 0.9270 - val_loss: 0.0337 - val_accuracy: 0.9919 - val_precision: 0.9407 - val_recall: 0.9050 - val_f1_m: 0.9162\n",
      "Epoch 17/50\n",
      "32/32 [==============================] - 0s 9ms/step - loss: 0.0331 - accuracy: 0.9926 - precision: 0.9423 - recall: 0.9214 - f1_m: 0.9297 - val_loss: 0.0356 - val_accuracy: 0.9925 - val_precision: 0.9436 - val_recall: 0.9145 - val_f1_m: 0.9228\n",
      "Epoch 18/50\n",
      "32/32 [==============================] - 0s 9ms/step - loss: 0.0324 - accuracy: 0.9924 - precision: 0.9427 - recall: 0.9142 - f1_m: 0.9253 - val_loss: 0.0386 - val_accuracy: 0.9906 - val_precision: 0.9221 - val_recall: 0.9002 - val_f1_m: 0.9065\n",
      "Epoch 19/50\n",
      "32/32 [==============================] - 0s 9ms/step - loss: 0.0318 - accuracy: 0.9928 - precision: 0.9512 - recall: 0.9143 - f1_m: 0.9309 - val_loss: 0.0339 - val_accuracy: 0.9910 - val_precision: 0.9227 - val_recall: 0.9074 - val_f1_m: 0.9101\n",
      "Epoch 20/50\n",
      "32/32 [==============================] - 0s 9ms/step - loss: 0.0295 - accuracy: 0.9933 - precision: 0.9454 - recall: 0.9295 - f1_m: 0.9369 - val_loss: 0.0294 - val_accuracy: 0.9928 - val_precision: 0.9461 - val_recall: 0.9169 - val_f1_m: 0.9265\n",
      "Epoch 21/50\n",
      "32/32 [==============================] - 0s 9ms/step - loss: 0.0302 - accuracy: 0.9935 - precision: 0.9520 - recall: 0.9266 - f1_m: 0.9386 - val_loss: 0.0326 - val_accuracy: 0.9921 - val_precision: 0.9410 - val_recall: 0.9097 - val_f1_m: 0.9202\n",
      "Epoch 22/50\n",
      "32/32 [==============================] - 0s 9ms/step - loss: 0.0283 - accuracy: 0.9945 - precision: 0.9597 - recall: 0.9327 - f1_m: 0.9437 - val_loss: 0.0285 - val_accuracy: 0.9932 - val_precision: 0.9599 - val_recall: 0.9097 - val_f1_m: 0.9287\n",
      "Epoch 23/50\n",
      "32/32 [==============================] - 0s 9ms/step - loss: 0.0274 - accuracy: 0.9945 - precision: 0.9634 - recall: 0.9297 - f1_m: 0.9448 - val_loss: 0.0287 - val_accuracy: 0.9943 - val_precision: 0.9772 - val_recall: 0.9145 - val_f1_m: 0.9394\n",
      "Epoch 24/50\n",
      "32/32 [==============================] - 0s 9ms/step - loss: 0.0304 - accuracy: 0.9938 - precision: 0.9651 - recall: 0.9204 - f1_m: 0.9407 - val_loss: 0.0310 - val_accuracy: 0.9939 - val_precision: 0.9819 - val_recall: 0.9026 - val_f1_m: 0.9358\n",
      "Epoch 25/50\n",
      "32/32 [==============================] - 0s 9ms/step - loss: 0.0294 - accuracy: 0.9939 - precision: 0.9631 - recall: 0.9182 - f1_m: 0.9386 - val_loss: 0.0262 - val_accuracy: 0.9944 - val_precision: 0.9846 - val_recall: 0.9097 - val_f1_m: 0.9421\n",
      "Epoch 26/50\n",
      "32/32 [==============================] - 0s 9ms/step - loss: 0.0259 - accuracy: 0.9946 - precision: 0.9748 - recall: 0.9280 - f1_m: 0.9517 - val_loss: 0.0351 - val_accuracy: 0.9934 - val_precision: 0.9624 - val_recall: 0.9121 - val_f1_m: 0.9316\n",
      "Epoch 27/50\n",
      "32/32 [==============================] - 0s 9ms/step - loss: 0.0247 - accuracy: 0.9948 - precision: 0.9659 - recall: 0.9336 - f1_m: 0.9485 - val_loss: 0.0289 - val_accuracy: 0.9929 - val_precision: 0.9574 - val_recall: 0.9074 - val_f1_m: 0.9267\n",
      "Epoch 28/50\n",
      "32/32 [==============================] - 0s 9ms/step - loss: 0.0256 - accuracy: 0.9944 - precision: 0.9562 - recall: 0.9367 - f1_m: 0.9450 - val_loss: 0.0311 - val_accuracy: 0.9943 - val_precision: 0.9845 - val_recall: 0.9074 - val_f1_m: 0.9405\n",
      "Epoch 29/50\n",
      "32/32 [==============================] - 0s 9ms/step - loss: 0.0284 - accuracy: 0.9950 - precision: 0.9761 - recall: 0.9307 - f1_m: 0.9518 - val_loss: 0.0293 - val_accuracy: 0.9938 - val_precision: 0.9697 - val_recall: 0.9121 - val_f1_m: 0.9356\n",
      "Epoch 30/50\n",
      "32/32 [==============================] - 0s 9ms/step - loss: 0.0195 - accuracy: 0.9962 - precision: 0.9839 - recall: 0.9434 - f1_m: 0.9636 - val_loss: 0.0340 - val_accuracy: 0.9947 - val_precision: 0.9871 - val_recall: 0.9121 - val_f1_m: 0.9448\n",
      "Epoch 31/50\n",
      "32/32 [==============================] - 0s 9ms/step - loss: 0.0246 - accuracy: 0.9942 - precision: 0.9667 - recall: 0.9221 - f1_m: 0.9436 - val_loss: 0.0253 - val_accuracy: 0.9954 - val_precision: 0.9873 - val_recall: 0.9264 - val_f1_m: 0.9543\n",
      "Epoch 32/50\n",
      "32/32 [==============================] - 0s 9ms/step - loss: 0.0229 - accuracy: 0.9952 - precision: 0.9804 - recall: 0.9291 - f1_m: 0.9523 - val_loss: 0.0295 - val_accuracy: 0.9948 - val_precision: 0.9922 - val_recall: 0.9097 - val_f1_m: 0.9454\n",
      "Epoch 33/50\n",
      "32/32 [==============================] - 0s 9ms/step - loss: 0.0333 - accuracy: 0.9941 - precision: 0.9727 - recall: 0.9167 - f1_m: 0.9427 - val_loss: 0.0266 - val_accuracy: 0.9948 - val_precision: 0.9922 - val_recall: 0.9097 - val_f1_m: 0.9442\n",
      "Epoch 34/50\n",
      "32/32 [==============================] - 0s 9ms/step - loss: 0.0246 - accuracy: 0.9949 - precision: 0.9800 - recall: 0.9234 - f1_m: 0.9510 - val_loss: 0.0295 - val_accuracy: 0.9948 - val_precision: 0.9897 - val_recall: 0.9121 - val_f1_m: 0.9459\n",
      "Epoch 35/50\n",
      "32/32 [==============================] - 0s 9ms/step - loss: 0.0228 - accuracy: 0.9956 - precision: 0.9787 - recall: 0.9377 - f1_m: 0.9576 - val_loss: 0.0258 - val_accuracy: 0.9949 - val_precision: 0.9798 - val_recall: 0.9240 - val_f1_m: 0.9483\n",
      "Epoch 36/50\n",
      "32/32 [==============================] - 0s 9ms/step - loss: 0.0192 - accuracy: 0.9960 - precision: 0.9802 - recall: 0.9416 - f1_m: 0.9609 - val_loss: 0.0244 - val_accuracy: 0.9953 - val_precision: 0.9873 - val_recall: 0.9240 - val_f1_m: 0.9521\n",
      "Epoch 37/50\n",
      "32/32 [==============================] - 0s 9ms/step - loss: 0.0226 - accuracy: 0.9954 - precision: 0.9818 - recall: 0.9310 - f1_m: 0.9554 - val_loss: 0.0241 - val_accuracy: 0.9956 - val_precision: 0.9923 - val_recall: 0.9240 - val_f1_m: 0.9551\n",
      "Epoch 38/50\n",
      "32/32 [==============================] - 0s 9ms/step - loss: 0.0177 - accuracy: 0.9959 - precision: 0.9698 - recall: 0.9544 - f1_m: 0.9594 - val_loss: 0.0267 - val_accuracy: 0.9951 - val_precision: 0.9751 - val_recall: 0.9311 - val_f1_m: 0.9505\n",
      "Epoch 39/50\n",
      "32/32 [==============================] - 0s 9ms/step - loss: 0.0214 - accuracy: 0.9957 - precision: 0.9829 - recall: 0.9383 - f1_m: 0.9603 - val_loss: 0.0253 - val_accuracy: 0.9956 - val_precision: 0.9874 - val_recall: 0.9287 - val_f1_m: 0.9550\n",
      "Epoch 40/50\n",
      "32/32 [==============================] - 0s 9ms/step - loss: 0.0218 - accuracy: 0.9960 - precision: 0.9915 - recall: 0.9379 - f1_m: 0.9634 - val_loss: 0.0243 - val_accuracy: 0.9957 - val_precision: 0.9874 - val_recall: 0.9311 - val_f1_m: 0.9563\n",
      "Epoch 41/50\n",
      "32/32 [==============================] - 0s 9ms/step - loss: 0.0250 - accuracy: 0.9956 - precision: 0.9910 - recall: 0.9292 - f1_m: 0.9583 - val_loss: 0.0230 - val_accuracy: 0.9962 - val_precision: 0.9975 - val_recall: 0.9311 - val_f1_m: 0.9619\n",
      "Epoch 42/50\n",
      "32/32 [==============================] - 0s 9ms/step - loss: 0.0218 - accuracy: 0.9957 - precision: 0.9900 - recall: 0.9254 - f1_m: 0.9552 - val_loss: 0.0256 - val_accuracy: 0.9953 - val_precision: 0.9848 - val_recall: 0.9264 - val_f1_m: 0.9521\n",
      "Epoch 43/50\n",
      "32/32 [==============================] - 0s 9ms/step - loss: 0.0205 - accuracy: 0.9957 - precision: 0.9882 - recall: 0.9300 - f1_m: 0.9568 - val_loss: 0.0230 - val_accuracy: 0.9957 - val_precision: 0.9899 - val_recall: 0.9287 - val_f1_m: 0.9569\n",
      "Epoch 44/50\n",
      "32/32 [==============================] - 0s 9ms/step - loss: 0.0192 - accuracy: 0.9966 - precision: 0.9939 - recall: 0.9438 - f1_m: 0.9670 - val_loss: 0.0289 - val_accuracy: 0.9952 - val_precision: 0.9898 - val_recall: 0.9192 - val_f1_m: 0.9510\n",
      "Epoch 45/50\n",
      "32/32 [==============================] - 0s 9ms/step - loss: 0.0231 - accuracy: 0.9962 - precision: 0.9949 - recall: 0.9342 - f1_m: 0.9629 - val_loss: 0.0231 - val_accuracy: 0.9956 - val_precision: 0.9849 - val_recall: 0.9311 - val_f1_m: 0.9558\n",
      "Epoch 46/50\n",
      "32/32 [==============================] - 0s 9ms/step - loss: 0.0185 - accuracy: 0.9967 - precision: 0.9931 - recall: 0.9431 - f1_m: 0.9683 - val_loss: 0.0229 - val_accuracy: 0.9958 - val_precision: 0.9949 - val_recall: 0.9264 - val_f1_m: 0.9575\n",
      "Epoch 47/50\n",
      "32/32 [==============================] - 0s 9ms/step - loss: 0.0196 - accuracy: 0.9961 - precision: 0.9932 - recall: 0.9335 - f1_m: 0.9610 - val_loss: 0.0297 - val_accuracy: 0.9946 - val_precision: 0.9821 - val_recall: 0.9145 - val_f1_m: 0.9442\n",
      "Epoch 48/50\n",
      "32/32 [==============================] - 0s 9ms/step - loss: 0.0234 - accuracy: 0.9956 - precision: 0.9905 - recall: 0.9278 - f1_m: 0.9572 - val_loss: 0.0220 - val_accuracy: 0.9961 - val_precision: 0.9924 - val_recall: 0.9335 - val_f1_m: 0.9603\n",
      "Epoch 49/50\n",
      "32/32 [==============================] - 0s 9ms/step - loss: 0.0171 - accuracy: 0.9970 - precision: 0.9976 - recall: 0.9435 - f1_m: 0.9695 - val_loss: 0.0231 - val_accuracy: 0.9958 - val_precision: 1.0000 - val_recall: 0.9216 - val_f1_m: 0.9570\n",
      "Epoch 50/50\n",
      "32/32 [==============================] - 0s 9ms/step - loss: 0.0186 - accuracy: 0.9963 - precision: 0.9963 - recall: 0.9344 - f1_m: 0.9638 - val_loss: 0.0231 - val_accuracy: 0.9958 - val_precision: 0.9850 - val_recall: 0.9359 - val_f1_m: 0.9577\n"
     ]
    }
   ],
   "source": [
    "history = model.fit(x_train, y_train, epochs=50, batch_size=512,\n",
    "                    validation_data=(x_valid, y_valid))"
   ]
  },
  {
   "cell_type": "code",
   "execution_count": 82,
   "metadata": {},
   "outputs": [
    {
     "data": {
      "text/plain": [
       "array([[0.00378907]], dtype=float32)"
      ]
     },
     "execution_count": 82,
     "metadata": {},
     "output_type": "execute_result"
    }
   ],
   "source": [
    "model.predict(x_valid[0].reshape(1,x_valid[0].shape[0], x_valid[0].shape[1]))"
   ]
  },
  {
   "cell_type": "code",
   "execution_count": null,
   "metadata": {},
   "outputs": [],
   "source": []
  },
  {
   "cell_type": "code",
   "execution_count": 83,
   "metadata": {},
   "outputs": [
    {
     "data": {
      "text/plain": [
       "<matplotlib.legend.Legend at 0x150b2fb72050>"
      ]
     },
     "execution_count": 83,
     "metadata": {},
     "output_type": "execute_result"
    },
    {
     "data": {
      "image/png": "[encoded data removed]",
      "text/plain": [
       "<Figure size 432x288 with 1 Axes>"
      ]
     },
     "metadata": {
      "needs_background": "light"
     },
     "output_type": "display_data"
    }
   ],
   "source": [
    "import matplotlib.pyplot as plt\n",
    "\n",
    "\n",
    "plt.plot(history.history['accuracy'], label='accuracy')\n",
    "plt.plot(history.history['val_accuracy'], label = 'val_accuracy')\n",
    "plt.xlabel('Epoch')\n",
    "plt.ylabel('Accuracy')\n",
    "plt.ylim([0.5, 1])\n",
    "plt.legend(loc='lower right')\n",
    "\n",
    "#test_loss, test_acc = model.evaluate(x_valid, y_valid, verbose=2)\n"
   ]
  },
  {
   "cell_type": "code",
   "execution_count": 84,
   "metadata": {},
   "outputs": [
    {
     "data": {
      "image/png": "[encoded data removed]",
      "text/plain": [
       "<Figure size 432x288 with 1 Axes>"
      ]
     },
     "metadata": {
      "needs_background": "light"
     },
     "output_type": "display_data"
    }
   ],
   "source": [
    "# summarize history for loss\n",
    "plt.plot(history.history['loss'])\n",
    "plt.plot(history.history['val_loss'])\n",
    "plt.title('model loss')\n",
    "plt.ylabel('loss')\n",
    "plt.xlabel('epoch')\n",
    "plt.legend(['train', 'test'], loc='upper left')\n",
    "plt.show()"
   ]
  },
  {
   "cell_type": "code",
   "execution_count": 85,
   "metadata": {},
   "outputs": [
    {
     "data": {
      "image/png": "[encoded data removed]",
      "text/plain": [
       "<Figure size 432x288 with 1 Axes>"
      ]
     },
     "metadata": {
      "needs_background": "light"
     },
     "output_type": "display_data"
    }
   ],
   "source": [
    "# summarize history for f1 score\n",
    "plt.plot(history.history['f1_m'])\n",
    "plt.plot(history.history['val_f1_m'])\n",
    "plt.title('model f1 score')\n",
    "plt.ylabel('f1 score')\n",
    "plt.xlabel('epoch')\n",
    "plt.legend(['train', 'test'], loc='upper left')\n",
    "plt.show()"
   ]
  },
  {
   "cell_type": "code",
   "execution_count": null,
   "metadata": {},
   "outputs": [],
   "source": []
  }
 ],
 "metadata": {
  "kernelspec": {
   "display_name": "Tensorflow_new",
   "language": "python",
   "name": "tf_env_cpu"
  },
  "language_info": {
   "codemirror_mode": {
    "name": "ipython",
    "version": 3
   },
   "file_extension": ".py",
   "mimetype": "text/x-python",
   "name": "python",
   "nbconvert_exporter": "python",
   "pygments_lexer": "ipython3",
   "version": "3.7.7"
  }
 },
 "nbformat": 4,
 "nbformat_minor": 4
}
