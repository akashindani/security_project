{
 "cells": [
  {
   "cell_type": "code",
   "execution_count": 100,
   "metadata": {},
   "outputs": [],
   "source": [
    "import tensorflow as tf\n",
    "import keras\n",
    "from tensorflow.keras import layers, models\n",
    "import numpy as np\n",
    "from sklearn.model_selection import train_test_split\n",
    "from keras import backend as K\n",
    "import glob\n"
   ]
  },
  {
   "cell_type": "code",
   "execution_count": 101,
   "metadata": {},
   "outputs": [],
   "source": [
    "def min_max_normalization(new_X_array):\n",
    "    new_x= np.zeros(new_X_array.shape)\n",
    "\n",
    "    for i in range(new_X_array.shape[2]):\n",
    "        \n",
    "        min_val = new_X_array[0][0][i]\n",
    "        max_val= new_X_array[0][0][i]\n",
    "        for array in new_X_array:\n",
    "            for item in array:\n",
    "                if item[i] < min_val:\n",
    "                    min_val = item[i]\n",
    "                if item[i] > max_val:\n",
    "                    max_val = item[i]\n",
    "\n",
    "        for j, array in enumerate(new_X_array):\n",
    "            for k, item in enumerate(array):\n",
    "                new_x[j][k][i] = (item[i] - min_val) / (max_val - min_val)\n",
    "                #x_test[j][k][i] = item[i]\n",
    "    \n",
    "    return new_x"
   ]
  },
  {
   "cell_type": "code",
   "execution_count": 102,
   "metadata": {},
   "outputs": [],
   "source": [
    "#loading gan data\n",
    "files_list=glob.glob('Security_research/bots_numpys/*.npy')\n",
    "\n",
    "x_gan_bots= np.array([], np.float32)\n",
    "orig_shape=[10,5]\n",
    "\n",
    "for npy in files_list:\n",
    "    new_a=np.zeros((10,5))\n",
    "    new_a=np.load(npy)[:orig_shape[0],:orig_shape[1],0]\n",
    "    x_gan_bots = np.append(x_gan_bots, np.asarray(new_a, dtype='float32'))\n",
    "    \n",
    "x_gan_bots_ = x_gan_bots.reshape(len(files_list),orig_shape[0],orig_shape[1]) \n",
    "y_gan_array=np.array([1] * len(files_list)).reshape(len(files_list),1)\n"
   ]
  },
  {
   "cell_type": "code",
   "execution_count": 103,
   "metadata": {},
   "outputs": [
    {
     "name": "stdout",
     "output_type": "stream",
     "text": [
      "(300, 10, 5)\n",
      "(300, 1)\n"
     ]
    }
   ],
   "source": [
    "print(x_gan_bots_.shape)\n",
    "print(y_gan_array.shape)"
   ]
  },
  {
   "cell_type": "code",
   "execution_count": 104,
   "metadata": {},
   "outputs": [
    {
     "data": {
      "text/plain": [
       "array([[ 3.3070824e-01,  7.2264862e-01,  9.9961090e-01,  2.6808016e-03,\n",
       "         9.9986452e-01],\n",
       "       [ 3.0670801e-01,  8.1611216e-01,  9.9995714e-01, -4.3413034e-04,\n",
       "         9.9999464e-01],\n",
       "       [ 4.0073568e-01,  8.3917743e-01,  9.9997556e-01,  2.4163674e-03,\n",
       "         9.9999571e-01],\n",
       "       [ 4.3987423e-01,  8.3952945e-01,  9.9997306e-01,  7.9582138e-03,\n",
       "         9.9999297e-01],\n",
       "       [ 4.3816149e-01,  8.7114727e-01,  9.9999112e-01,  8.4972347e-04,\n",
       "         9.9999923e-01],\n",
       "       [ 4.4292748e-01,  8.2793546e-01,  9.9999803e-01,  2.5050885e-03,\n",
       "         1.0000000e+00],\n",
       "       [ 4.5440909e-01,  6.3981616e-01,  9.9994123e-01,  6.0482472e-03,\n",
       "         9.9998063e-01],\n",
       "       [ 4.5092899e-01,  7.1564287e-01,  9.9993259e-01,  6.7955693e-03,\n",
       "         9.9996263e-01],\n",
       "       [ 4.7286379e-01,  8.8412553e-01,  9.9997491e-01, -6.2814555e-03,\n",
       "         9.9999595e-01],\n",
       "       [ 4.0896380e-01,  8.6448407e-01,  9.9994475e-01, -3.3200532e-04,\n",
       "         9.9999881e-01]], dtype=float32)"
      ]
     },
     "execution_count": 104,
     "metadata": {},
     "output_type": "execute_result"
    }
   ],
   "source": [
    "x_gan_bots_[0]"
   ]
  },
  {
   "cell_type": "code",
   "execution_count": 105,
   "metadata": {},
   "outputs": [
    {
     "data": {
      "text/plain": [
       "'\\n# Split the data\\nx_train, x_valid, y_train, y_valid = train_test_split(reduced_x_valid, reduced_y_valid, test_size=0.33, shuffle= True, stratify=reduced_y_valid)\\n'"
      ]
     },
     "execution_count": 105,
     "metadata": {},
     "output_type": "execute_result"
    }
   ],
   "source": [
    "X_array = np.load('ip_sequences_new_10.npy')\n",
    "Y_array = np.load('y_array_new_10.npy')\n",
    "X_array=np.delete(X_array,[6], axis=2)\n",
    "X_array=np.delete(X_array,[3], axis=2)\n",
    "\n",
    "#new_x = min_max_normalization(X_array)\n",
    "\n",
    "#generate 1 percent data \n",
    "reduced_x_train, reduced_x_valid, reduced_y_train, reduced_y_valid = train_test_split(X_array, Y_array, test_size=0.1, shuffle= True,stratify=Y_array)\n",
    "\n",
    "'''\n",
    "# Split the data\n",
    "x_train, x_valid, y_train, y_valid = train_test_split(reduced_x_valid, reduced_y_valid, test_size=0.33, shuffle= True, stratify=reduced_y_valid)\n",
    "'''"
   ]
  },
  {
   "cell_type": "code",
   "execution_count": 106,
   "metadata": {},
   "outputs": [
    {
     "name": "stdout",
     "output_type": "stream",
     "text": [
      "(2693, 10, 5) (2693, 1)\n"
     ]
    }
   ],
   "source": [
    "new_x =  min_max_normalization(np.append(reduced_x_valid,x_gan_bots_, axis=0))\n",
    "new_y = np.append(reduced_y_valid,y_gan_array, axis=0)\n",
    "print(new_x.shape, new_y.shape)"
   ]
  },
  {
   "cell_type": "code",
   "execution_count": 107,
   "metadata": {},
   "outputs": [
    {
     "name": "stdout",
     "output_type": "stream",
     "text": [
      "0.15893056071295952 0.8410694392870405\n"
     ]
    }
   ],
   "source": [
    "print(np.count_nonzero(new_y == 1)/new_y.shape[0], np.count_nonzero(new_y == 0)/new_y.shape[0])"
   ]
  },
  {
   "cell_type": "code",
   "execution_count": 108,
   "metadata": {},
   "outputs": [],
   "source": [
    "from sklearn.model_selection import train_test_split\n",
    "\n",
    "# Split the data\n",
    "x_train, x_valid, y_train, y_valid = train_test_split(new_x, new_y, test_size=0.33, shuffle= True, stratify=new_y)"
   ]
  },
  {
   "cell_type": "code",
   "execution_count": 109,
   "metadata": {},
   "outputs": [
    {
     "name": "stdout",
     "output_type": "stream",
     "text": [
      "Model: \"sequential_2\"\n",
      "_________________________________________________________________\n",
      "Layer (type)                 Output Shape              Param #   \n",
      "=================================================================\n",
      "lstm_4 (LSTM)                (None, 10, 8)             448       \n",
      "_________________________________________________________________\n",
      "lstm_5 (LSTM)                (None, 8)                 544       \n",
      "_________________________________________________________________\n",
      "dense_2 (Dense)              (None, 1)                 9         \n",
      "=================================================================\n",
      "Total params: 1,001\n",
      "Trainable params: 1,001\n",
      "Non-trainable params: 0\n",
      "_________________________________________________________________\n"
     ]
    }
   ],
   "source": [
    "model = keras.Sequential()\n",
    "model.add(layers.LSTM(8,return_sequences=True, input_shape=(x_train.shape[1], x_train.shape[2]), activation='relu'))\n",
    "model.add(layers.LSTM(8, activation='relu'), )\n",
    "model.add(layers.Dense(1, activation='sigmoid'))\n",
    "model.summary()"
   ]
  },
  {
   "cell_type": "code",
   "execution_count": 110,
   "metadata": {},
   "outputs": [],
   "source": [
    "#https://datascience.stackexchange.com/questions/45165/how-to-get-accuracy-f1-precision-and-recall-for-a-keras-model\n",
    "\n",
    "def recall_m(y_true, y_pred):\n",
    "    true_positives = K.sum(K.round(K.clip(y_true * y_pred, 0, 1)))\n",
    "    possible_positives = K.sum(K.round(K.clip(y_true, 0, 1)))\n",
    "    recall = true_positives / (possible_positives + K.epsilon())\n",
    "    return recall\n",
    "\n",
    "def precision_m(y_true, y_pred):\n",
    "    true_positives = K.sum(K.round(K.clip(y_true * y_pred, 0, 1)))\n",
    "    predicted_positives = K.sum(K.round(K.clip(y_pred, 0, 1)))\n",
    "    precision = true_positives / (predicted_positives + K.epsilon())\n",
    "    return precision\n",
    "\n",
    "def f1_m(y_true, y_pred):\n",
    "    precision = precision_m(y_true, y_pred)\n",
    "    recall = recall_m(y_true, y_pred)\n",
    "    return 2*((precision*recall)/(precision+recall+K.epsilon()))"
   ]
  },
  {
   "cell_type": "code",
   "execution_count": 111,
   "metadata": {},
   "outputs": [],
   "source": [
    "opt = tf.keras.optimizers.Adam(learning_rate=0.01)\n",
    "\n",
    "model.compile(optimizer=opt,\n",
    "              loss=tf.keras.losses.BinaryCrossentropy(from_logits=True),\n",
    "              metrics=['accuracy', 'Precision', 'Recall', f1_m])"
   ]
  },
  {
   "cell_type": "code",
   "execution_count": 112,
   "metadata": {},
   "outputs": [
    {
     "name": "stdout",
     "output_type": "stream",
     "text": [
      "Epoch 1/50\n",
      "4/4 [==============================] - 2s 135ms/step - loss: 0.6917 - accuracy: 0.4988 - precision: 0.1464 - recall: 0.4272 - f1_m: 0.2081 - val_loss: 0.6459 - val_accuracy: 0.8414 - val_precision: 0.0000e+00 - val_recall: 0.0000e+00 - val_f1_m: 0.0000e+00\n",
      "Epoch 2/50\n",
      "4/4 [==============================] - 0s 14ms/step - loss: 0.6318 - accuracy: 0.8449 - precision: 0.0000e+00 - recall: 0.0000e+00 - f1_m: 0.0000e+00 - val_loss: 0.5598 - val_accuracy: 0.8414 - val_precision: 0.0000e+00 - val_recall: 0.0000e+00 - val_f1_m: 0.0000e+00\n",
      "Epoch 3/50\n",
      "4/4 [==============================] - 0s 13ms/step - loss: 0.5255 - accuracy: 0.8643 - precision: 0.7941 - recall: 0.1380 - f1_m: 0.2219 - val_loss: 0.3414 - val_accuracy: 0.9730 - val_precision: 1.0000 - val_recall: 0.8298 - val_f1_m: 0.9051\n",
      "Epoch 4/50\n",
      "4/4 [==============================] - 0s 13ms/step - loss: 0.2733 - accuracy: 0.9731 - precision: 0.9859 - recall: 0.8418 - f1_m: 0.9113 - val_loss: 0.1841 - val_accuracy: 0.9741 - val_precision: 0.9917 - val_recall: 0.8440 - val_f1_m: 0.9096\n",
      "Epoch 5/50\n",
      "4/4 [==============================] - 0s 14ms/step - loss: 0.1453 - accuracy: 0.9758 - precision: 0.9897 - recall: 0.8543 - f1_m: 0.9179 - val_loss: 0.1130 - val_accuracy: 0.9820 - val_precision: 0.9496 - val_recall: 0.9362 - val_f1_m: 0.9353\n",
      "Epoch 6/50\n",
      "4/4 [==============================] - 0s 13ms/step - loss: 0.1205 - accuracy: 0.9804 - precision: 0.9608 - recall: 0.9097 - f1_m: 0.9346 - val_loss: 0.0618 - val_accuracy: 0.9865 - val_precision: 0.9778 - val_recall: 0.9362 - val_f1_m: 0.9493\n",
      "Epoch 7/50\n",
      "4/4 [==============================] - 0s 13ms/step - loss: 0.0951 - accuracy: 0.9818 - precision: 0.9796 - recall: 0.9088 - f1_m: 0.9412 - val_loss: 0.0594 - val_accuracy: 0.9865 - val_precision: 0.9778 - val_recall: 0.9362 - val_f1_m: 0.9493\n",
      "Epoch 8/50\n",
      "4/4 [==============================] - 0s 13ms/step - loss: 0.0811 - accuracy: 0.9819 - precision: 0.9799 - recall: 0.9022 - f1_m: 0.9402 - val_loss: 0.0611 - val_accuracy: 0.9865 - val_precision: 0.9778 - val_recall: 0.9362 - val_f1_m: 0.9493\n",
      "Epoch 9/50\n",
      "4/4 [==============================] - 0s 13ms/step - loss: 0.0822 - accuracy: 0.9825 - precision: 0.9760 - recall: 0.9117 - f1_m: 0.9438 - val_loss: 0.0613 - val_accuracy: 0.9888 - val_precision: 0.9925 - val_recall: 0.9362 - val_f1_m: 0.9575\n",
      "Epoch 10/50\n",
      "4/4 [==============================] - 0s 13ms/step - loss: 0.0783 - accuracy: 0.9829 - precision: 0.9859 - recall: 0.9055 - f1_m: 0.9430 - val_loss: 0.0568 - val_accuracy: 0.9888 - val_precision: 0.9925 - val_recall: 0.9362 - val_f1_m: 0.9575\n",
      "Epoch 11/50\n",
      "4/4 [==============================] - 0s 13ms/step - loss: 0.0898 - accuracy: 0.9807 - precision: 0.9885 - recall: 0.8926 - f1_m: 0.9388 - val_loss: 0.0567 - val_accuracy: 0.9888 - val_precision: 0.9925 - val_recall: 0.9362 - val_f1_m: 0.9575\n",
      "Epoch 12/50\n",
      "4/4 [==============================] - 0s 13ms/step - loss: 0.0791 - accuracy: 0.9829 - precision: 0.9922 - recall: 0.9009 - f1_m: 0.9451 - val_loss: 0.0569 - val_accuracy: 0.9888 - val_precision: 0.9925 - val_recall: 0.9362 - val_f1_m: 0.9575\n",
      "Epoch 13/50\n",
      "4/4 [==============================] - 0s 13ms/step - loss: 0.0795 - accuracy: 0.9832 - precision: 0.9876 - recall: 0.9077 - f1_m: 0.9481 - val_loss: 0.0566 - val_accuracy: 0.9888 - val_precision: 0.9925 - val_recall: 0.9362 - val_f1_m: 0.9575\n",
      "Epoch 14/50\n",
      "4/4 [==============================] - 0s 13ms/step - loss: 0.0820 - accuracy: 0.9829 - precision: 0.9932 - recall: 0.8995 - f1_m: 0.9436 - val_loss: 0.0540 - val_accuracy: 0.9888 - val_precision: 0.9925 - val_recall: 0.9362 - val_f1_m: 0.9575\n",
      "Epoch 15/50\n",
      "4/4 [==============================] - 0s 13ms/step - loss: 0.0791 - accuracy: 0.9834 - precision: 0.9858 - recall: 0.9068 - f1_m: 0.9461 - val_loss: 0.0530 - val_accuracy: 0.9888 - val_precision: 0.9925 - val_recall: 0.9362 - val_f1_m: 0.9575\n",
      "Epoch 16/50\n",
      "4/4 [==============================] - 0s 13ms/step - loss: 0.0651 - accuracy: 0.9863 - precision: 0.9881 - recall: 0.9275 - f1_m: 0.9548 - val_loss: 0.0559 - val_accuracy: 0.9888 - val_precision: 0.9925 - val_recall: 0.9362 - val_f1_m: 0.9575\n",
      "Epoch 17/50\n",
      "4/4 [==============================] - 0s 13ms/step - loss: 0.0693 - accuracy: 0.9863 - precision: 0.9901 - recall: 0.9220 - f1_m: 0.9551 - val_loss: 0.0525 - val_accuracy: 0.9888 - val_precision: 0.9925 - val_recall: 0.9362 - val_f1_m: 0.9575\n",
      "Epoch 18/50\n",
      "4/4 [==============================] - 0s 13ms/step - loss: 0.0725 - accuracy: 0.9849 - precision: 0.9812 - recall: 0.9230 - f1_m: 0.9523 - val_loss: 0.0525 - val_accuracy: 0.9888 - val_precision: 0.9925 - val_recall: 0.9362 - val_f1_m: 0.9575\n",
      "Epoch 19/50\n",
      "4/4 [==============================] - 0s 13ms/step - loss: 0.0625 - accuracy: 0.9870 - precision: 0.9895 - recall: 0.9267 - f1_m: 0.9563 - val_loss: 0.0529 - val_accuracy: 0.9888 - val_precision: 0.9925 - val_recall: 0.9362 - val_f1_m: 0.9575\n",
      "Epoch 20/50\n",
      "4/4 [==============================] - 0s 13ms/step - loss: 0.0651 - accuracy: 0.9866 - precision: 0.9912 - recall: 0.9244 - f1_m: 0.9566 - val_loss: 0.0513 - val_accuracy: 0.9888 - val_precision: 0.9925 - val_recall: 0.9362 - val_f1_m: 0.9575\n",
      "Epoch 21/50\n",
      "4/4 [==============================] - 0s 13ms/step - loss: 0.0736 - accuracy: 0.9833 - precision: 0.9857 - recall: 0.9051 - f1_m: 0.9454 - val_loss: 0.0486 - val_accuracy: 0.9888 - val_precision: 0.9925 - val_recall: 0.9362 - val_f1_m: 0.9575\n",
      "Epoch 22/50\n",
      "4/4 [==============================] - 0s 13ms/step - loss: 0.0722 - accuracy: 0.9846 - precision: 0.9812 - recall: 0.9206 - f1_m: 0.9499 - val_loss: 0.0523 - val_accuracy: 0.9888 - val_precision: 0.9925 - val_recall: 0.9362 - val_f1_m: 0.9575\n",
      "Epoch 23/50\n",
      "4/4 [==============================] - 0s 13ms/step - loss: 0.0667 - accuracy: 0.9861 - precision: 0.9883 - recall: 0.9200 - f1_m: 0.9537 - val_loss: 0.0488 - val_accuracy: 0.9876 - val_precision: 0.9924 - val_recall: 0.9291 - val_f1_m: 0.9526\n",
      "Epoch 24/50\n",
      "4/4 [==============================] - 0s 13ms/step - loss: 0.0680 - accuracy: 0.9847 - precision: 0.9916 - recall: 0.9148 - f1_m: 0.9526 - val_loss: 0.0479 - val_accuracy: 0.9888 - val_precision: 0.9925 - val_recall: 0.9362 - val_f1_m: 0.9575\n",
      "Epoch 25/50\n",
      "4/4 [==============================] - 0s 13ms/step - loss: 0.0686 - accuracy: 0.9846 - precision: 0.9902 - recall: 0.9161 - f1_m: 0.9516 - val_loss: 0.0453 - val_accuracy: 0.9888 - val_precision: 0.9925 - val_recall: 0.9362 - val_f1_m: 0.9575\n",
      "Epoch 26/50\n",
      "4/4 [==============================] - 0s 13ms/step - loss: 0.0600 - accuracy: 0.9861 - precision: 0.9878 - recall: 0.9198 - f1_m: 0.9517 - val_loss: 0.0537 - val_accuracy: 0.9876 - val_precision: 0.9924 - val_recall: 0.9291 - val_f1_m: 0.9526\n",
      "Epoch 27/50\n",
      "4/4 [==============================] - 0s 13ms/step - loss: 0.0732 - accuracy: 0.9840 - precision: 0.9911 - recall: 0.9070 - f1_m: 0.9483 - val_loss: 0.0443 - val_accuracy: 0.9888 - val_precision: 0.9925 - val_recall: 0.9362 - val_f1_m: 0.9575\n",
      "Epoch 28/50\n",
      "4/4 [==============================] - 0s 13ms/step - loss: 0.0668 - accuracy: 0.9848 - precision: 0.9886 - recall: 0.9166 - f1_m: 0.9498 - val_loss: 0.0465 - val_accuracy: 0.9888 - val_precision: 0.9925 - val_recall: 0.9362 - val_f1_m: 0.9575\n",
      "Epoch 29/50\n",
      "4/4 [==============================] - 0s 12ms/step - loss: 0.0614 - accuracy: 0.9855 - precision: 0.9906 - recall: 0.9175 - f1_m: 0.9521 - val_loss: 0.0527 - val_accuracy: 0.9888 - val_precision: 0.9925 - val_recall: 0.9362 - val_f1_m: 0.9575\n",
      "Epoch 30/50\n",
      "4/4 [==============================] - 0s 13ms/step - loss: 0.0743 - accuracy: 0.9831 - precision: 0.9861 - recall: 0.9065 - f1_m: 0.9455 - val_loss: 0.0436 - val_accuracy: 0.9888 - val_precision: 0.9925 - val_recall: 0.9362 - val_f1_m: 0.9575\n",
      "Epoch 31/50\n",
      "4/4 [==============================] - 0s 13ms/step - loss: 0.0763 - accuracy: 0.9825 - precision: 0.9878 - recall: 0.9056 - f1_m: 0.9464 - val_loss: 0.0444 - val_accuracy: 0.9888 - val_precision: 0.9925 - val_recall: 0.9362 - val_f1_m: 0.9575\n",
      "Epoch 32/50\n",
      "4/4 [==============================] - 0s 13ms/step - loss: 0.0701 - accuracy: 0.9841 - precision: 0.9873 - recall: 0.9109 - f1_m: 0.9462 - val_loss: 0.0417 - val_accuracy: 0.9888 - val_precision: 0.9925 - val_recall: 0.9362 - val_f1_m: 0.9575\n",
      "Epoch 33/50\n",
      "4/4 [==============================] - 0s 13ms/step - loss: 0.0631 - accuracy: 0.9850 - precision: 0.9904 - recall: 0.9179 - f1_m: 0.9525 - val_loss: 0.0411 - val_accuracy: 0.9888 - val_precision: 0.9925 - val_recall: 0.9362 - val_f1_m: 0.9575\n",
      "Epoch 34/50\n",
      "4/4 [==============================] - 0s 13ms/step - loss: 0.0639 - accuracy: 0.9841 - precision: 0.9892 - recall: 0.9133 - f1_m: 0.9510 - val_loss: 0.0397 - val_accuracy: 0.9888 - val_precision: 0.9925 - val_recall: 0.9362 - val_f1_m: 0.9575\n",
      "Epoch 35/50\n",
      "4/4 [==============================] - 0s 12ms/step - loss: 0.0575 - accuracy: 0.9869 - precision: 0.9892 - recall: 0.9293 - f1_m: 0.9575 - val_loss: 0.0459 - val_accuracy: 0.9876 - val_precision: 0.9924 - val_recall: 0.9291 - val_f1_m: 0.9526\n",
      "Epoch 36/50\n",
      "4/4 [==============================] - 0s 13ms/step - loss: 0.0534 - accuracy: 0.9865 - precision: 0.9961 - recall: 0.9178 - f1_m: 0.9540 - val_loss: 0.0631 - val_accuracy: 0.9910 - val_precision: 0.9926 - val_recall: 0.9504 - val_f1_m: 0.9654\n",
      "Epoch 37/50\n",
      "4/4 [==============================] - 0s 13ms/step - loss: 0.0660 - accuracy: 0.9862 - precision: 0.9937 - recall: 0.9179 - f1_m: 0.9551 - val_loss: 0.0395 - val_accuracy: 0.9888 - val_precision: 0.9925 - val_recall: 0.9362 - val_f1_m: 0.9575\n",
      "Epoch 38/50\n",
      "4/4 [==============================] - 0s 13ms/step - loss: 0.0628 - accuracy: 0.9849 - precision: 0.9857 - recall: 0.9181 - f1_m: 0.9499 - val_loss: 0.0422 - val_accuracy: 0.9899 - val_precision: 0.9925 - val_recall: 0.9433 - val_f1_m: 0.9624\n",
      "Epoch 39/50\n",
      "4/4 [==============================] - 0s 13ms/step - loss: 0.0562 - accuracy: 0.9862 - precision: 0.9870 - recall: 0.9213 - f1_m: 0.9522 - val_loss: 0.0393 - val_accuracy: 0.9888 - val_precision: 0.9925 - val_recall: 0.9362 - val_f1_m: 0.9575\n",
      "Epoch 40/50\n",
      "4/4 [==============================] - 0s 13ms/step - loss: 0.0539 - accuracy: 0.9859 - precision: 0.9864 - recall: 0.9242 - f1_m: 0.9542 - val_loss: 0.0356 - val_accuracy: 0.9899 - val_precision: 0.9925 - val_recall: 0.9433 - val_f1_m: 0.9624\n",
      "Epoch 41/50\n",
      "4/4 [==============================] - 0s 13ms/step - loss: 0.0593 - accuracy: 0.9842 - precision: 0.9866 - recall: 0.9158 - f1_m: 0.9496 - val_loss: 0.0336 - val_accuracy: 0.9910 - val_precision: 0.9926 - val_recall: 0.9504 - val_f1_m: 0.9654\n",
      "Epoch 42/50\n",
      "4/4 [==============================] - 0s 13ms/step - loss: 0.0463 - accuracy: 0.9872 - precision: 0.9911 - recall: 0.9273 - f1_m: 0.9570 - val_loss: 0.0372 - val_accuracy: 0.9921 - val_precision: 0.9926 - val_recall: 0.9574 - val_f1_m: 0.9702\n",
      "Epoch 43/50\n",
      "4/4 [==============================] - 0s 13ms/step - loss: 0.0480 - accuracy: 0.9857 - precision: 0.9937 - recall: 0.9142 - f1_m: 0.9519 - val_loss: 0.0334 - val_accuracy: 0.9921 - val_precision: 0.9926 - val_recall: 0.9574 - val_f1_m: 0.9702\n",
      "Epoch 44/50\n",
      "4/4 [==============================] - 0s 13ms/step - loss: 0.0480 - accuracy: 0.9892 - precision: 0.9936 - recall: 0.9432 - f1_m: 0.9674 - val_loss: 0.0438 - val_accuracy: 0.9933 - val_precision: 0.9927 - val_recall: 0.9645 - val_f1_m: 0.9748\n",
      "Epoch 45/50\n",
      "4/4 [==============================] - 0s 13ms/step - loss: 0.0672 - accuracy: 0.9861 - precision: 0.9877 - recall: 0.9244 - f1_m: 0.9560 - val_loss: 0.0770 - val_accuracy: 0.9933 - val_precision: 0.9927 - val_recall: 0.9645 - val_f1_m: 0.9732\n",
      "Epoch 46/50\n",
      "4/4 [==============================] - 0s 13ms/step - loss: 0.0881 - accuracy: 0.9894 - precision: 0.9905 - recall: 0.9420 - f1_m: 0.9648 - val_loss: 0.0656 - val_accuracy: 0.9888 - val_precision: 0.9925 - val_recall: 0.9362 - val_f1_m: 0.9575\n",
      "Epoch 47/50\n",
      "4/4 [==============================] - 0s 13ms/step - loss: 0.1030 - accuracy: 0.9822 - precision: 0.9843 - recall: 0.9009 - f1_m: 0.9389 - val_loss: 0.0681 - val_accuracy: 0.9899 - val_precision: 0.9925 - val_recall: 0.9433 - val_f1_m: 0.9624\n",
      "Epoch 48/50\n",
      "4/4 [==============================] - 0s 13ms/step - loss: 0.0844 - accuracy: 0.9841 - precision: 0.9859 - recall: 0.9138 - f1_m: 0.9471 - val_loss: 0.0387 - val_accuracy: 0.9888 - val_precision: 0.9925 - val_recall: 0.9362 - val_f1_m: 0.9575\n",
      "Epoch 49/50\n",
      "4/4 [==============================] - 0s 13ms/step - loss: 0.0577 - accuracy: 0.9860 - precision: 0.9856 - recall: 0.9218 - f1_m: 0.9533 - val_loss: 0.0418 - val_accuracy: 0.9888 - val_precision: 0.9925 - val_recall: 0.9362 - val_f1_m: 0.9575\n",
      "Epoch 50/50\n",
      "4/4 [==============================] - 0s 13ms/step - loss: 0.0692 - accuracy: 0.9830 - precision: 0.9870 - recall: 0.9024 - f1_m: 0.9438 - val_loss: 0.0371 - val_accuracy: 0.9888 - val_precision: 0.9925 - val_recall: 0.9362 - val_f1_m: 0.9575\n"
     ]
    }
   ],
   "source": [
    "history = model.fit(x_train, y_train, batch_size=512,epochs=50, \n",
    "                    validation_data=(x_valid, y_valid))"
   ]
  },
  {
   "cell_type": "code",
   "execution_count": 113,
   "metadata": {},
   "outputs": [
    {
     "data": {
      "text/plain": [
       "<matplotlib.legend.Legend at 0x155188027dd0>"
      ]
     },
     "execution_count": 113,
     "metadata": {},
     "output_type": "execute_result"
    },
    {
     "data": {
      "image/png": "[encoded data removed]",
      "text/plain": [
       "<Figure size 432x288 with 1 Axes>"
      ]
     },
     "metadata": {
      "needs_background": "light"
     },
     "output_type": "display_data"
    }
   ],
   "source": [
    "import matplotlib.pyplot as plt\n",
    "\n",
    "\n",
    "plt.plot(history.history['accuracy'], label='accuracy')\n",
    "plt.plot(history.history['val_accuracy'], label = 'val_accuracy')\n",
    "plt.xlabel('Epoch')\n",
    "plt.ylabel('Accuracy')\n",
    "plt.ylim([0.5, 1])\n",
    "plt.legend(loc='lower right')\n",
    "\n",
    "#test_loss, test_acc = model.evaluate(x_valid, y_valid, verbose=2)\n"
   ]
  },
  {
   "cell_type": "code",
   "execution_count": 114,
   "metadata": {},
   "outputs": [
    {
     "data": {
      "image/png": "[encoded data removed]",
      "text/plain": [
       "<Figure size 432x288 with 1 Axes>"
      ]
     },
     "metadata": {
      "needs_background": "light"
     },
     "output_type": "display_data"
    }
   ],
   "source": [
    "# summarize history for loss\n",
    "plt.plot(history.history['loss'])\n",
    "plt.plot(history.history['val_loss'])\n",
    "plt.title('model loss')\n",
    "plt.ylabel('loss')\n",
    "plt.xlabel('epoch')\n",
    "plt.legend(['train', 'test'], loc='upper left')\n",
    "plt.show()"
   ]
  },
  {
   "cell_type": "code",
   "execution_count": 115,
   "metadata": {},
   "outputs": [
    {
     "data": {
      "image/png": "[encoded data removed]",
      "text/plain": [
       "<Figure size 432x288 with 1 Axes>"
      ]
     },
     "metadata": {
      "needs_background": "light"
     },
     "output_type": "display_data"
    }
   ],
   "source": [
    "# summarize history for f1 score\n",
    "plt.plot(history.history['f1_m'])\n",
    "plt.plot(history.history['val_f1_m'])\n",
    "plt.title('model f1 score')\n",
    "plt.ylabel('f1 score')\n",
    "plt.xlabel('epoch')\n",
    "plt.legend(['train', 'test'], loc='upper left')\n",
    "plt.show()"
   ]
  },
  {
   "cell_type": "code",
   "execution_count": null,
   "metadata": {},
   "outputs": [],
   "source": []
  }
 ],
 "metadata": {
  "kernelspec": {
   "display_name": "Tensorflow_new",
   "language": "python",
   "name": "tf_env_cpu"
  },
  "language_info": {
   "codemirror_mode": {
    "name": "ipython",
    "version": 3
   },
   "file_extension": ".py",
   "mimetype": "text/x-python",
   "name": "python",
   "nbconvert_exporter": "python",
   "pygments_lexer": "ipython3",
   "version": "3.7.7"
  }
 },
 "nbformat": 4,
 "nbformat_minor": 4
}
