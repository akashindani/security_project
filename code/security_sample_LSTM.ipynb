{
 "cells": [
  {
   "cell_type": "code",
   "execution_count": 251,
   "metadata": {},
   "outputs": [],
   "source": [
    "import tensorflow as tf\n",
    "import keras\n",
    "from tensorflow.keras import layers, models\n",
    "import numpy as np\n",
    "from sklearn.model_selection import train_test_split\n",
    "from keras import backend as K\n"
   ]
  },
  {
   "cell_type": "code",
   "execution_count": 252,
   "metadata": {},
   "outputs": [],
   "source": [
    "X_array = np.load('ip_sequences_new_10.npy')\n",
    "Y_array = np.load('y_array_new_10.npy')"
   ]
  },
  {
   "cell_type": "code",
   "execution_count": 253,
   "metadata": {},
   "outputs": [
    {
     "data": {
      "text/plain": [
       "(23929, 10, 7)"
      ]
     },
     "execution_count": 253,
     "metadata": {},
     "output_type": "execute_result"
    }
   ],
   "source": [
    "X_array.shape"
   ]
  },
  {
   "cell_type": "code",
   "execution_count": 254,
   "metadata": {},
   "outputs": [
    {
     "data": {
      "text/plain": [
       "(23929, 1)"
      ]
     },
     "execution_count": 254,
     "metadata": {},
     "output_type": "execute_result"
    }
   ],
   "source": [
    "Y_array.shape"
   ]
  },
  {
   "cell_type": "code",
   "execution_count": 255,
   "metadata": {},
   "outputs": [
    {
     "name": "stdout",
     "output_type": "stream",
     "text": [
      "(23929, 1)\n",
      "1275\n"
     ]
    }
   ],
   "source": [
    "#let us see how many 1's we have.\n",
    "y_ne= np.load('y_array_new_10.npy')\n",
    "\n",
    "print(y_ne.shape)\n",
    "ones=0\n",
    "for item in y_ne:\n",
    "    if item[0] == 1:\n",
    "        ones += 1\n",
    "print(ones)"
   ]
  },
  {
   "cell_type": "code",
   "execution_count": 256,
   "metadata": {},
   "outputs": [
    {
     "data": {
      "text/plain": [
       "False"
      ]
     },
     "execution_count": 256,
     "metadata": {},
     "output_type": "execute_result"
    }
   ],
   "source": [
    "np.isnan(np.sum(X_array))"
   ]
  },
  {
   "cell_type": "code",
   "execution_count": 257,
   "metadata": {},
   "outputs": [
    {
     "data": {
      "text/plain": [
       "(23929, 10, 7)"
      ]
     },
     "execution_count": 257,
     "metadata": {},
     "output_type": "execute_result"
    }
   ],
   "source": [
    "X_array.shape"
   ]
  },
  {
   "cell_type": "code",
   "execution_count": 258,
   "metadata": {},
   "outputs": [],
   "source": [
    "X_array=np.delete(X_array,[6], axis=2)\n",
    "X_array=np.delete(X_array,[3], axis=2)"
   ]
  },
  {
   "cell_type": "code",
   "execution_count": 259,
   "metadata": {},
   "outputs": [
    {
     "data": {
      "text/plain": [
       "(23929, 10, 5)"
      ]
     },
     "execution_count": 259,
     "metadata": {},
     "output_type": "execute_result"
    }
   ],
   "source": [
    "X_array.shape"
   ]
  },
  {
   "cell_type": "code",
   "execution_count": 260,
   "metadata": {},
   "outputs": [],
   "source": [
    "reduced_x_train, reduced_x_valid, reduced_y_train, reduced_y_valid = train_test_split(X_array, Y_array, test_size=0.1, shuffle= True,stratify=Y_array)"
   ]
  },
  {
   "cell_type": "code",
   "execution_count": 261,
   "metadata": {},
   "outputs": [
    {
     "data": {
      "text/plain": [
       "(2393, 1)"
      ]
     },
     "execution_count": 261,
     "metadata": {},
     "output_type": "execute_result"
    }
   ],
   "source": [
    "reduced_y_valid.shape"
   ]
  },
  {
   "cell_type": "code",
   "execution_count": 262,
   "metadata": {},
   "outputs": [
    {
     "name": "stdout",
     "output_type": "stream",
     "text": [
      "0.053282627773830915 0.946717372226169\n",
      "0.05348934391976599 0.946510656080234\n"
     ]
    }
   ],
   "source": [
    "print(np.count_nonzero(Y_array == 1)/Y_array.shape[0], np.count_nonzero(Y_array == 0)/Y_array.shape[0])\n",
    "\n",
    "print(np.count_nonzero(reduced_y_valid == 1)/reduced_y_valid.shape[0], np.count_nonzero(reduced_y_valid == 0)/reduced_y_valid.shape[0])\n",
    "\n",
    "\n"
   ]
  },
  {
   "cell_type": "code",
   "execution_count": 263,
   "metadata": {},
   "outputs": [],
   "source": [
    "def min_max_normalization(new_X_array):\n",
    "    new_x= np.zeros(new_X_array.shape)\n",
    "\n",
    "    for i in range(new_X_array.shape[2]):\n",
    "        \n",
    "        min_val = new_X_array[0][0][i]\n",
    "        max_val= new_X_array[0][0][i]\n",
    "        for array in new_X_array:\n",
    "            for item in array:\n",
    "                if item[i] < min_val:\n",
    "                    min_val = item[i]\n",
    "                if item[i] > max_val:\n",
    "                    max_val = item[i]\n",
    "\n",
    "        for j, array in enumerate(new_X_array):\n",
    "            for k, item in enumerate(array):\n",
    "                new_x[j][k][i] = (item[i] - min_val) / (max_val - min_val)\n",
    "                #x_test[j][k][i] = item[i]\n",
    "    \n",
    "    return new_x\n",
    "    "
   ]
  },
  {
   "cell_type": "code",
   "execution_count": 264,
   "metadata": {},
   "outputs": [
    {
     "data": {
      "text/plain": [
       "(2393, 10, 5)"
      ]
     },
     "execution_count": 264,
     "metadata": {},
     "output_type": "execute_result"
    }
   ],
   "source": [
    "new_x = min_max_normalization(reduced_x_valid)\n",
    "new_x.shape"
   ]
  },
  {
   "cell_type": "code",
   "execution_count": 265,
   "metadata": {},
   "outputs": [],
   "source": [
    "from sklearn.model_selection import train_test_split\n",
    "\n",
    "# Split the data\n",
    "x_train, x_valid, y_train, y_valid = train_test_split(new_x, reduced_y_valid, test_size=0.33, shuffle= True, stratify=reduced_y_valid)"
   ]
  },
  {
   "cell_type": "code",
   "execution_count": 266,
   "metadata": {},
   "outputs": [
    {
     "name": "stdout",
     "output_type": "stream",
     "text": [
      "748\n"
     ]
    }
   ],
   "source": [
    "print(np.count_nonzero(y_valid == 0))"
   ]
  },
  {
   "cell_type": "code",
   "execution_count": null,
   "metadata": {},
   "outputs": [],
   "source": []
  },
  {
   "cell_type": "code",
   "execution_count": 267,
   "metadata": {},
   "outputs": [
    {
     "name": "stdout",
     "output_type": "stream",
     "text": [
      "Model: \"sequential_15\"\n",
      "_________________________________________________________________\n",
      "Layer (type)                 Output Shape              Param #   \n",
      "=================================================================\n",
      "lstm_30 (LSTM)               (None, 10, 8)             448       \n",
      "_________________________________________________________________\n",
      "lstm_31 (LSTM)               (None, 8)                 544       \n",
      "_________________________________________________________________\n",
      "dense_15 (Dense)             (None, 1)                 9         \n",
      "=================================================================\n",
      "Total params: 1,001\n",
      "Trainable params: 1,001\n",
      "Non-trainable params: 0\n",
      "_________________________________________________________________\n"
     ]
    }
   ],
   "source": [
    "model = keras.Sequential()\n",
    "model.add(layers.LSTM(8,return_sequences=True, input_shape=(x_train.shape[1], x_train.shape[2]), activation='relu'))\n",
    "model.add(layers.LSTM(8, activation='relu'), )\n",
    "model.add(layers.Dense(1, activation='sigmoid'))\n",
    "model.summary()"
   ]
  },
  {
   "cell_type": "code",
   "execution_count": 268,
   "metadata": {},
   "outputs": [],
   "source": [
    "#https://datascience.stackexchange.com/questions/45165/how-to-get-accuracy-f1-precision-and-recall-for-a-keras-model\n",
    "\n",
    "def recall_m(y_true, y_pred):\n",
    "    true_positives = K.sum(K.round(K.clip(y_true * y_pred, 0, 1)))\n",
    "    possible_positives = K.sum(K.round(K.clip(y_true, 0, 1)))\n",
    "    recall = true_positives / (possible_positives + K.epsilon())\n",
    "    return recall\n",
    "\n",
    "def precision_m(y_true, y_pred):\n",
    "    true_positives = K.sum(K.round(K.clip(y_true * y_pred, 0, 1)))\n",
    "    predicted_positives = K.sum(K.round(K.clip(y_pred, 0, 1)))\n",
    "    precision = true_positives / (predicted_positives + K.epsilon())\n",
    "    return precision\n",
    "\n",
    "def f1_m(y_true, y_pred):\n",
    "    precision = precision_m(y_true, y_pred)\n",
    "    recall = recall_m(y_true, y_pred)\n",
    "    return 2*((precision*recall)/(precision+recall+K.epsilon()))"
   ]
  },
  {
   "cell_type": "code",
   "execution_count": 269,
   "metadata": {},
   "outputs": [],
   "source": [
    "opt = tf.keras.optimizers.Adam(learning_rate=0.01)\n",
    "\n",
    "model.compile(optimizer=opt,\n",
    "              loss=tf.keras.losses.BinaryCrossentropy(from_logits=True),\n",
    "              metrics=['accuracy', 'Precision', 'Recall', f1_m])"
   ]
  },
  {
   "cell_type": "code",
   "execution_count": 270,
   "metadata": {},
   "outputs": [
    {
     "name": "stdout",
     "output_type": "stream",
     "text": [
      "Epoch 1/50\n",
      "4/4 [==============================] - 2s 292ms/step - loss: 0.6869 - accuracy: 0.5180 - precision: 0.0864 - recall: 0.6800 - f1_m: 0.2530 - val_loss: 0.6459 - val_accuracy: 0.9570 - val_precision: 1.0000 - val_recall: 0.1905 - val_f1_m: 0.2986\n",
      "Epoch 2/50\n",
      "4/4 [==============================] - 0s 14ms/step - loss: 0.6351 - accuracy: 0.9506 - precision: 1.0000 - recall: 0.1415 - f1_m: 0.2139 - val_loss: 0.5768 - val_accuracy: 0.9532 - val_precision: 1.0000 - val_recall: 0.1190 - val_f1_m: 0.1922\n",
      "Epoch 3/50\n",
      "4/4 [==============================] - 0s 13ms/step - loss: 0.5600 - accuracy: 0.9545 - precision: 1.0000 - recall: 0.1701 - f1_m: 0.2926 - val_loss: 0.4602 - val_accuracy: 0.9734 - val_precision: 1.0000 - val_recall: 0.5000 - val_f1_m: 0.6386\n",
      "Epoch 4/50\n",
      "4/4 [==============================] - 0s 13ms/step - loss: 0.4301 - accuracy: 0.9704 - precision: 0.9712 - recall: 0.4485 - f1_m: 0.5788 - val_loss: 0.2460 - val_accuracy: 0.9797 - val_precision: 0.9333 - val_recall: 0.6667 - val_f1_m: 0.7455\n",
      "Epoch 5/50\n",
      "4/4 [==============================] - 0s 13ms/step - loss: 0.2138 - accuracy: 0.9778 - precision: 0.9096 - recall: 0.6029 - f1_m: 0.7188 - val_loss: 0.0682 - val_accuracy: 0.9861 - val_precision: 0.9429 - val_recall: 0.7857 - val_f1_m: 0.8418\n",
      "Epoch 6/50\n",
      "4/4 [==============================] - 0s 14ms/step - loss: 0.1163 - accuracy: 0.9775 - precision: 0.8616 - recall: 0.7293 - f1_m: 0.7869 - val_loss: 0.0834 - val_accuracy: 0.9861 - val_precision: 0.9429 - val_recall: 0.7857 - val_f1_m: 0.8418\n",
      "Epoch 7/50\n",
      "4/4 [==============================] - 0s 14ms/step - loss: 0.1184 - accuracy: 0.9830 - precision: 0.9360 - recall: 0.7262 - f1_m: 0.8166 - val_loss: 0.0756 - val_accuracy: 0.9734 - val_precision: 0.7333 - val_recall: 0.7857 - val_f1_m: 0.7437\n",
      "Epoch 8/50\n",
      "4/4 [==============================] - 0s 14ms/step - loss: 0.0794 - accuracy: 0.9793 - precision: 0.8108 - recall: 0.7747 - f1_m: 0.8053 - val_loss: 0.0601 - val_accuracy: 0.9861 - val_precision: 0.9429 - val_recall: 0.7857 - val_f1_m: 0.8418\n",
      "Epoch 9/50\n",
      "4/4 [==============================] - 0s 14ms/step - loss: 0.0717 - accuracy: 0.9797 - precision: 0.8962 - recall: 0.7048 - f1_m: 0.8037 - val_loss: 0.0605 - val_accuracy: 0.9848 - val_precision: 0.9412 - val_recall: 0.7619 - val_f1_m: 0.8193\n",
      "Epoch 10/50\n",
      "4/4 [==============================] - 0s 14ms/step - loss: 0.0657 - accuracy: 0.9806 - precision: 0.9161 - recall: 0.7173 - f1_m: 0.7829 - val_loss: 0.0731 - val_accuracy: 0.9861 - val_precision: 0.9429 - val_recall: 0.7857 - val_f1_m: 0.8418\n",
      "Epoch 11/50\n",
      "4/4 [==============================] - 0s 14ms/step - loss: 0.0815 - accuracy: 0.9808 - precision: 0.8727 - recall: 0.7145 - f1_m: 0.7449 - val_loss: 0.0603 - val_accuracy: 0.9848 - val_precision: 0.9412 - val_recall: 0.7619 - val_f1_m: 0.8193\n",
      "Epoch 12/50\n",
      "4/4 [==============================] - 0s 14ms/step - loss: 0.0689 - accuracy: 0.9800 - precision: 0.9074 - recall: 0.7005 - f1_m: 0.7540 - val_loss: 0.0604 - val_accuracy: 0.9861 - val_precision: 0.9429 - val_recall: 0.7857 - val_f1_m: 0.8418\n",
      "Epoch 13/50\n",
      "4/4 [==============================] - 0s 14ms/step - loss: 0.0731 - accuracy: 0.9811 - precision: 0.8870 - recall: 0.7469 - f1_m: 0.8074 - val_loss: 0.0675 - val_accuracy: 0.9861 - val_precision: 0.9429 - val_recall: 0.7857 - val_f1_m: 0.8418\n",
      "Epoch 14/50\n",
      "4/4 [==============================] - 0s 15ms/step - loss: 0.0659 - accuracy: 0.9847 - precision: 0.9036 - recall: 0.7933 - f1_m: 0.8105 - val_loss: 0.0604 - val_accuracy: 0.9861 - val_precision: 0.9429 - val_recall: 0.7857 - val_f1_m: 0.8418\n",
      "Epoch 15/50\n",
      "4/4 [==============================] - 0s 14ms/step - loss: 0.0550 - accuracy: 0.9857 - precision: 0.9122 - recall: 0.8039 - f1_m: 0.8290 - val_loss: 0.0706 - val_accuracy: 0.9861 - val_precision: 0.9429 - val_recall: 0.7857 - val_f1_m: 0.8418\n",
      "Epoch 16/50\n",
      "4/4 [==============================] - 0s 15ms/step - loss: 0.0795 - accuracy: 0.9855 - precision: 0.9212 - recall: 0.7912 - f1_m: 0.8531 - val_loss: 0.0596 - val_accuracy: 0.9861 - val_precision: 0.9429 - val_recall: 0.7857 - val_f1_m: 0.8418\n",
      "Epoch 17/50\n",
      "4/4 [==============================] - 0s 15ms/step - loss: 0.0697 - accuracy: 0.9816 - precision: 0.8961 - recall: 0.7232 - f1_m: 0.7927 - val_loss: 0.0644 - val_accuracy: 0.9848 - val_precision: 0.9412 - val_recall: 0.7619 - val_f1_m: 0.8193\n",
      "Epoch 18/50\n",
      "4/4 [==============================] - 0s 14ms/step - loss: 0.0748 - accuracy: 0.9809 - precision: 0.9084 - recall: 0.7261 - f1_m: 0.7804 - val_loss: 0.0590 - val_accuracy: 0.9861 - val_precision: 0.9429 - val_recall: 0.7857 - val_f1_m: 0.8418\n",
      "Epoch 19/50\n",
      "4/4 [==============================] - 0s 15ms/step - loss: 0.0658 - accuracy: 0.9844 - precision: 0.9522 - recall: 0.7587 - f1_m: 0.8461 - val_loss: 0.0684 - val_accuracy: 0.9848 - val_precision: 0.9167 - val_recall: 0.7857 - val_f1_m: 0.8329\n",
      "Epoch 20/50\n",
      "4/4 [==============================] - 0s 14ms/step - loss: 0.0651 - accuracy: 0.9845 - precision: 0.8973 - recall: 0.7821 - f1_m: 0.8516 - val_loss: 0.0598 - val_accuracy: 0.9861 - val_precision: 0.9429 - val_recall: 0.7857 - val_f1_m: 0.8418\n",
      "Epoch 21/50\n",
      "4/4 [==============================] - 0s 14ms/step - loss: 0.0651 - accuracy: 0.9820 - precision: 0.9284 - recall: 0.7263 - f1_m: 0.8093 - val_loss: 0.0614 - val_accuracy: 0.9861 - val_precision: 0.9429 - val_recall: 0.7857 - val_f1_m: 0.8418\n",
      "Epoch 22/50\n",
      "4/4 [==============================] - 0s 15ms/step - loss: 0.0673 - accuracy: 0.9823 - precision: 0.9082 - recall: 0.7458 - f1_m: 0.8339 - val_loss: 0.0588 - val_accuracy: 0.9861 - val_precision: 0.9429 - val_recall: 0.7857 - val_f1_m: 0.8418\n",
      "Epoch 23/50\n",
      "4/4 [==============================] - 0s 14ms/step - loss: 0.0606 - accuracy: 0.9852 - precision: 0.9087 - recall: 0.7911 - f1_m: 0.8506 - val_loss: 0.0588 - val_accuracy: 0.9861 - val_precision: 0.9429 - val_recall: 0.7857 - val_f1_m: 0.8418\n",
      "Epoch 24/50\n",
      "4/4 [==============================] - 0s 15ms/step - loss: 0.0630 - accuracy: 0.9842 - precision: 0.9227 - recall: 0.7672 - f1_m: 0.8393 - val_loss: 0.0584 - val_accuracy: 0.9861 - val_precision: 0.9429 - val_recall: 0.7857 - val_f1_m: 0.8418\n",
      "Epoch 25/50\n",
      "4/4 [==============================] - 0s 14ms/step - loss: 0.0612 - accuracy: 0.9841 - precision: 0.9162 - recall: 0.7900 - f1_m: 0.8363 - val_loss: 0.0587 - val_accuracy: 0.9861 - val_precision: 0.9429 - val_recall: 0.7857 - val_f1_m: 0.8418\n",
      "Epoch 26/50\n",
      "4/4 [==============================] - 0s 14ms/step - loss: 0.0573 - accuracy: 0.9848 - precision: 0.9155 - recall: 0.7575 - f1_m: 0.8290 - val_loss: 0.0596 - val_accuracy: 0.9861 - val_precision: 0.9429 - val_recall: 0.7857 - val_f1_m: 0.8418\n",
      "Epoch 27/50\n",
      "4/4 [==============================] - 0s 14ms/step - loss: 0.0594 - accuracy: 0.9848 - precision: 0.9022 - recall: 0.7869 - f1_m: 0.8204 - val_loss: 0.0598 - val_accuracy: 0.9861 - val_precision: 0.9429 - val_recall: 0.7857 - val_f1_m: 0.8418\n",
      "Epoch 28/50\n",
      "4/4 [==============================] - 0s 15ms/step - loss: 0.0569 - accuracy: 0.9838 - precision: 0.9374 - recall: 0.7623 - f1_m: 0.7542 - val_loss: 0.0604 - val_accuracy: 0.9861 - val_precision: 0.9429 - val_recall: 0.7857 - val_f1_m: 0.8418\n",
      "Epoch 29/50\n",
      "4/4 [==============================] - 0s 15ms/step - loss: 0.0587 - accuracy: 0.9831 - precision: 0.9146 - recall: 0.7319 - f1_m: 0.8239 - val_loss: 0.0612 - val_accuracy: 0.9861 - val_precision: 0.9429 - val_recall: 0.7857 - val_f1_m: 0.8418\n",
      "Epoch 30/50\n",
      "4/4 [==============================] - 0s 14ms/step - loss: 0.0567 - accuracy: 0.9840 - precision: 0.8930 - recall: 0.7616 - f1_m: 0.8264 - val_loss: 0.0594 - val_accuracy: 0.9861 - val_precision: 0.9429 - val_recall: 0.7857 - val_f1_m: 0.8418\n",
      "Epoch 31/50\n",
      "4/4 [==============================] - 0s 15ms/step - loss: 0.0647 - accuracy: 0.9818 - precision: 0.9199 - recall: 0.7157 - f1_m: 0.7821 - val_loss: 0.0589 - val_accuracy: 0.9861 - val_precision: 0.9429 - val_recall: 0.7857 - val_f1_m: 0.8418\n",
      "Epoch 32/50\n",
      "4/4 [==============================] - 0s 15ms/step - loss: 0.0556 - accuracy: 0.9850 - precision: 0.9231 - recall: 0.7830 - f1_m: 0.8443 - val_loss: 0.0594 - val_accuracy: 0.9861 - val_precision: 0.9429 - val_recall: 0.7857 - val_f1_m: 0.8418\n",
      "Epoch 33/50\n",
      "4/4 [==============================] - 0s 15ms/step - loss: 0.0560 - accuracy: 0.9843 - precision: 0.9194 - recall: 0.7794 - f1_m: 0.8029 - val_loss: 0.0592 - val_accuracy: 0.9861 - val_precision: 0.9429 - val_recall: 0.7857 - val_f1_m: 0.8418\n",
      "Epoch 34/50\n",
      "4/4 [==============================] - 0s 14ms/step - loss: 0.0635 - accuracy: 0.9829 - precision: 0.9236 - recall: 0.7673 - f1_m: 0.8490 - val_loss: 0.0589 - val_accuracy: 0.9861 - val_precision: 0.9429 - val_recall: 0.7857 - val_f1_m: 0.8418\n",
      "Epoch 35/50\n",
      "4/4 [==============================] - 0s 14ms/step - loss: 0.0631 - accuracy: 0.9825 - precision: 0.9323 - recall: 0.7487 - f1_m: 0.8395 - val_loss: 0.0592 - val_accuracy: 0.9861 - val_precision: 0.9429 - val_recall: 0.7857 - val_f1_m: 0.8418\n",
      "Epoch 36/50\n",
      "4/4 [==============================] - 0s 14ms/step - loss: 0.0544 - accuracy: 0.9834 - precision: 0.9155 - recall: 0.7767 - f1_m: 0.8232 - val_loss: 0.0585 - val_accuracy: 0.9861 - val_precision: 0.9429 - val_recall: 0.7857 - val_f1_m: 0.8418\n",
      "Epoch 37/50\n",
      "4/4 [==============================] - 0s 14ms/step - loss: 0.0585 - accuracy: 0.9828 - precision: 0.8980 - recall: 0.7724 - f1_m: 0.7997 - val_loss: 0.0647 - val_accuracy: 0.9861 - val_precision: 0.9429 - val_recall: 0.7857 - val_f1_m: 0.8418\n",
      "Epoch 38/50\n",
      "4/4 [==============================] - 0s 14ms/step - loss: 0.0595 - accuracy: 0.9863 - precision: 0.9292 - recall: 0.7963 - f1_m: 0.8437 - val_loss: 0.0575 - val_accuracy: 0.9861 - val_precision: 0.9429 - val_recall: 0.7857 - val_f1_m: 0.8418\n",
      "Epoch 39/50\n",
      "4/4 [==============================] - 0s 14ms/step - loss: 0.0575 - accuracy: 0.9839 - precision: 0.9390 - recall: 0.7486 - f1_m: 0.8457 - val_loss: 0.0621 - val_accuracy: 0.9861 - val_precision: 0.9429 - val_recall: 0.7857 - val_f1_m: 0.8418\n",
      "Epoch 40/50\n",
      "4/4 [==============================] - 0s 14ms/step - loss: 0.0653 - accuracy: 0.9827 - precision: 0.9096 - recall: 0.7528 - f1_m: 0.8265 - val_loss: 0.0574 - val_accuracy: 0.9861 - val_precision: 0.9429 - val_recall: 0.7857 - val_f1_m: 0.8418\n",
      "Epoch 41/50\n",
      "4/4 [==============================] - 0s 14ms/step - loss: 0.0627 - accuracy: 0.9820 - precision: 0.9157 - recall: 0.7483 - f1_m: 0.8143 - val_loss: 0.0636 - val_accuracy: 0.9861 - val_precision: 0.9429 - val_recall: 0.7857 - val_f1_m: 0.8418\n",
      "Epoch 42/50\n",
      "4/4 [==============================] - 0s 14ms/step - loss: 0.0622 - accuracy: 0.9864 - precision: 0.9463 - recall: 0.8097 - f1_m: 0.8245 - val_loss: 0.0574 - val_accuracy: 0.9861 - val_precision: 0.9429 - val_recall: 0.7857 - val_f1_m: 0.8418\n",
      "Epoch 43/50\n",
      "4/4 [==============================] - 0s 14ms/step - loss: 0.0556 - accuracy: 0.9828 - precision: 0.9120 - recall: 0.7618 - f1_m: 0.8315 - val_loss: 0.0579 - val_accuracy: 0.9861 - val_precision: 0.9429 - val_recall: 0.7857 - val_f1_m: 0.8418\n",
      "Epoch 44/50\n",
      "4/4 [==============================] - 0s 15ms/step - loss: 0.0599 - accuracy: 0.9795 - precision: 0.9048 - recall: 0.7157 - f1_m: 0.7902 - val_loss: 0.0584 - val_accuracy: 0.9861 - val_precision: 0.9429 - val_recall: 0.7857 - val_f1_m: 0.8418\n",
      "Epoch 45/50\n",
      "4/4 [==============================] - 0s 15ms/step - loss: 0.0570 - accuracy: 0.9829 - precision: 0.9108 - recall: 0.7591 - f1_m: 0.8431 - val_loss: 0.0596 - val_accuracy: 0.9861 - val_precision: 0.9429 - val_recall: 0.7857 - val_f1_m: 0.8418\n",
      "Epoch 46/50\n",
      "4/4 [==============================] - 0s 15ms/step - loss: 0.0527 - accuracy: 0.9852 - precision: 0.9290 - recall: 0.8022 - f1_m: 0.7752 - val_loss: 0.0617 - val_accuracy: 0.9861 - val_precision: 0.9429 - val_recall: 0.7857 - val_f1_m: 0.8418\n",
      "Epoch 47/50\n",
      "4/4 [==============================] - 0s 15ms/step - loss: 0.0611 - accuracy: 0.9836 - precision: 0.9096 - recall: 0.7789 - f1_m: 0.8386 - val_loss: 0.0574 - val_accuracy: 0.9861 - val_precision: 0.9429 - val_recall: 0.7857 - val_f1_m: 0.8418\n",
      "Epoch 48/50\n",
      "4/4 [==============================] - 0s 15ms/step - loss: 0.0494 - accuracy: 0.9866 - precision: 0.9267 - recall: 0.8129 - f1_m: 0.8585 - val_loss: 0.0556 - val_accuracy: 0.9861 - val_precision: 0.9429 - val_recall: 0.7857 - val_f1_m: 0.8418\n",
      "Epoch 49/50\n",
      "4/4 [==============================] - 0s 14ms/step - loss: 0.0517 - accuracy: 0.9854 - precision: 0.9150 - recall: 0.7944 - f1_m: 0.8532 - val_loss: 0.0568 - val_accuracy: 0.9861 - val_precision: 0.9429 - val_recall: 0.7857 - val_f1_m: 0.8418\n",
      "Epoch 50/50\n",
      "4/4 [==============================] - 0s 14ms/step - loss: 0.0571 - accuracy: 0.9811 - precision: 0.8971 - recall: 0.7376 - f1_m: 0.8118 - val_loss: 0.0582 - val_accuracy: 0.9861 - val_precision: 0.9429 - val_recall: 0.7857 - val_f1_m: 0.8418\n"
     ]
    }
   ],
   "source": [
    "history = model.fit(x_train, y_train, batch_size=512,epochs=50, \n",
    "                    validation_data=(x_valid, y_valid))"
   ]
  },
  {
   "cell_type": "code",
   "execution_count": 272,
   "metadata": {},
   "outputs": [
    {
     "data": {
      "text/plain": [
       "array([[0.08502439]], dtype=float32)"
      ]
     },
     "execution_count": 272,
     "metadata": {},
     "output_type": "execute_result"
    }
   ],
   "source": [
    "model.predict(x_valid[0].reshape(1,x_valid[0].shape[0], x_valid[0].shape[1]))"
   ]
  },
  {
   "cell_type": "code",
   "execution_count": null,
   "metadata": {},
   "outputs": [],
   "source": []
  },
  {
   "cell_type": "code",
   "execution_count": 273,
   "metadata": {},
   "outputs": [
    {
     "data": {
      "text/plain": [
       "<matplotlib.legend.Legend at 0x14f785528810>"
      ]
     },
     "execution_count": 273,
     "metadata": {},
     "output_type": "execute_result"
    },
    {
     "data": {
      "image/png": "[encoded data removed]",
      "text/plain": [
       "<Figure size 432x288 with 1 Axes>"
      ]
     },
     "metadata": {
      "needs_background": "light"
     },
     "output_type": "display_data"
    }
   ],
   "source": [
    "import matplotlib.pyplot as plt\n",
    "\n",
    "\n",
    "plt.plot(history.history['accuracy'], label='accuracy')\n",
    "plt.plot(history.history['val_accuracy'], label = 'val_accuracy')\n",
    "plt.xlabel('Epoch')\n",
    "plt.ylabel('Accuracy')\n",
    "plt.ylim([0.5, 1])\n",
    "plt.legend(loc='lower right')\n",
    "\n",
    "#test_loss, test_acc = model.evaluate(x_valid, y_valid, verbose=2)\n"
   ]
  },
  {
   "cell_type": "code",
   "execution_count": 274,
   "metadata": {},
   "outputs": [
    {
     "data": {
      "image/png": "[encoded data removed]",
      "text/plain": [
       "<Figure size 432x288 with 1 Axes>"
      ]
     },
     "metadata": {
      "needs_background": "light"
     },
     "output_type": "display_data"
    }
   ],
   "source": [
    "# summarize history for loss\n",
    "plt.plot(history.history['loss'])\n",
    "plt.plot(history.history['val_loss'])\n",
    "plt.title('model loss')\n",
    "plt.ylabel('loss')\n",
    "plt.xlabel('epoch')\n",
    "plt.legend(['train', 'test'], loc='upper left')\n",
    "plt.show()"
   ]
  },
  {
   "cell_type": "code",
   "execution_count": 275,
   "metadata": {},
   "outputs": [
    {
     "data": {
      "image/png": "[encoded data removed]",
      "text/plain": [
       "<Figure size 432x288 with 1 Axes>"
      ]
     },
     "metadata": {
      "needs_background": "light"
     },
     "output_type": "display_data"
    }
   ],
   "source": [
    "# summarize history for f1 score\n",
    "plt.plot(history.history['f1_m'])\n",
    "plt.plot(history.history['val_f1_m'])\n",
    "plt.title('model f1 score')\n",
    "plt.ylabel('f1 score')\n",
    "plt.xlabel('epoch')\n",
    "plt.legend(['train', 'test'], loc='upper left')\n",
    "plt.show()"
   ]
  }
 ],
 "metadata": {
  "kernelspec": {
   "display_name": "Tensorflow_new",
   "language": "python",
   "name": "tf_env_cpu"
  },
  "language_info": {
   "codemirror_mode": {
    "name": "ipython",
    "version": 3
   },
   "file_extension": ".py",
   "mimetype": "text/x-python",
   "name": "python",
   "nbconvert_exporter": "python",
   "pygments_lexer": "ipython3",
   "version": "3.7.7"
  }
 },
 "nbformat": 4,
 "nbformat_minor": 4
}
